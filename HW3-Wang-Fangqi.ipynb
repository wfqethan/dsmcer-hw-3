{
 "cells": [
  {
   "cell_type": "markdown",
   "metadata": {},
   "source": [
    "## If a cell begins with DNC: do not change it and leave the markdown there so I can expect a basic level of  organization that is common to all HW (will help me with grading). This also clearly delineates the sections for me"
   ]
  },
  {
   "cell_type": "markdown",
   "metadata": {},
   "source": [
    "## DNC: preamble leave any general comments here and, in keeping with good practice, I suggest you load all needed modules in the preamble"
   ]
  },
  {
   "cell_type": "markdown",
   "metadata": {},
   "source": [
    "## DNC: Begin Part 1: Descriptive Statistics "
   ]
  },
  {
   "cell_type": "markdown",
   "metadata": {},
   "source": [
    "### Part 1: Problems for descriptive statistics \n",
    "\n",
    "#### 1-1: Understanding statistical calculations in python \n",
    "\n",
    "* Create a numpy array that has 10 uniform random numbers between 25.0 and 35.0, store it as a variable \n",
    "* Createa pandas dataframe with one frame based on your numpy array \n",
    "* Use \"np.std\" and \"pd.std\" formulas to calculate the standard deviation from both arrays, do not change any of the default arguments \n",
    "* The numbers should be different, explain why \n",
    "* Repeat the exercise with 1E6 uniform random numbers drawn from the same range \n",
    "* Comment on whether the numbers are different or not and explain why \n",
    "* Demonstrate that by using the proper function arguments you can obtain the same answer in both methods \n",
    "\n",
    "\n",
    "#### 1-2: Box plots \n",
    "\n",
    "* The data file GerberdingElectricityChilledWater.csv shows chilled water (energy) and electricity usage for Gerberding Hall over approximately an 18 month period from Jan 2013 to June 2014.  \n",
    "* **Note: these are real data! If you make any executive decisions (e.g., remove some points for very specific reasons), clearly explain your decision and motivation for doing so** \n",
    "\n",
    "* Load the data into Python (your choice of method) and prepare a box plot summary of the data. \n",
    "* Present the plot in the nicest possible format (e.g., improve it from the default and prepare it for publication or presentation format) - this is open ended and you can use your judgement \n",
    "* Explain in your own words what each part on the box plot means"
   ]
  },
  {
   "cell_type": "markdown",
   "metadata": {},
   "source": [
    "***\n",
    "\n",
    "### Part 1: Problems for descriptive statistics \n",
    "\n",
    "#### 1-1: Understanding statistical calculations in python "
   ]
  },
  {
   "cell_type": "code",
   "execution_count": 1,
   "metadata": {
    "collapsed": false
   },
   "outputs": [],
   "source": [
    "# import common libraries\n",
    "import pandas as pd\n",
    "import numpy as np\n",
    "import matplotlib.pyplot as plt\n",
    "import math\n",
    "from scipy.stats import binom\n",
    "from scipy.stats import norm\n",
    "from scipy.stats import poisson\n",
    "%matplotlib inline\n",
    "from scipy import stats"
   ]
  },
  {
   "cell_type": "code",
   "execution_count": 2,
   "metadata": {
    "collapsed": false
   },
   "outputs": [
    {
     "name": "stdout",
     "output_type": "stream",
     "text": [
      "3.45992430061 | 3.64708044056\n"
     ]
    }
   ],
   "source": [
    "# generate 10 uniform random number between 25.0 & 35.0\n",
    "my_rand = np.random.uniform(25.0, 35.0, 10)\n",
    "# store the random numbers into data frame\n",
    "df = pd.DataFrame([my_rand])\n",
    "np_std = np.std(df.loc[0])\n",
    "pd_std = df.loc[0].std()\n",
    "print(\"%s | %s\" % (np_std, pd_std))"
   ]
  },
  {
   "cell_type": "markdown",
   "metadata": {},
   "source": [
    "#### Citation: \n",
    "> _\"Why Does Numpy Std() Give A Different Result To Matlab Std()?\". Stackoverflow.com. N.p., 2017. Web. 31 Jan. 2017._\n",
    "\n",
    ">_\"Pandas.Dataframe.Std — Pandas 0.19.2 Documentation\". Pandas.pydata.org. N.p., 2017. Web. 31 Jan. 2017._\n",
    "\n",
    "<p>\n",
    "    In numpy, the ``np.std`` calculation takes an optional parameter ddof: \"Delta Degrees of Freedom\". The default is 0. Whereas in ``pd.std``, the default ``ddof`` parameter is set to be 1.\n",
    "</p>\n",
    "\n"
   ]
  },
  {
   "cell_type": "code",
   "execution_count": 3,
   "metadata": {
    "collapsed": false
   },
   "outputs": [
    {
     "name": "stdout",
     "output_type": "stream",
     "text": [
      "numpy std = 3.64708044056 | pandas std = 3.64708044056\n"
     ]
    }
   ],
   "source": [
    "np_std = np.std(df.loc[0],ddof=1) # set ddof=1 in numpy\n",
    "pd_std = df.loc[0].std() # ddof = 1 default in pandas\n",
    "print(\"numpy std = %s | pandas std = %s\" % (np_std, pd_std)) # same result"
   ]
  },
  {
   "cell_type": "code",
   "execution_count": 4,
   "metadata": {
    "collapsed": false
   },
   "outputs": [
    {
     "name": "stdout",
     "output_type": "stream",
     "text": [
      "numpy std = 3.45992430061 | pandas std = 3.45992430061\n"
     ]
    }
   ],
   "source": [
    "np_std = np.std(df.loc[0]) # ddof = 0 default in numpy\n",
    "pd_std = df.loc[0].std(ddof=0) # set ddof=0 in pandas\n",
    "print(\"numpy std = %s | pandas std = %s\" % (np_std, pd_std)) # same result"
   ]
  },
  {
   "cell_type": "markdown",
   "metadata": {},
   "source": [
    "Set the sample size to be 1E6 and compare the ``std`` result"
   ]
  },
  {
   "cell_type": "code",
   "execution_count": 5,
   "metadata": {
    "collapsed": false
   },
   "outputs": [
    {
     "name": "stdout",
     "output_type": "stream",
     "text": [
      "2.88876772408 | 2.88876916846\n"
     ]
    }
   ],
   "source": [
    "# generate 10 uniform random number between 25.0 & 35.0\n",
    "my_rand = np.random.uniform(25.0, 35.0, int(1e6))\n",
    "# store the random numbers into data frame\n",
    "df = pd.DataFrame([my_rand])\n",
    "np_std = np.std(df.loc[0])\n",
    "pd_std = df.loc[0].std()\n",
    "print(\"%s | %s\" % (np_std, pd_std))"
   ]
  },
  {
   "cell_type": "markdown",
   "metadata": {},
   "source": [
    "<p>\n",
    "After we increase the sample sets, we can see that the computation result from ``pd.std`` has significantly approaching the result form ``np.std``. This is because the correction term or the Bessel's coefficient for numpy is N and pandas is N-1. When N is comparabally large, the standard deviation would not be affect by this changes.\n",
    "</p>\n",
    "\n",
    "<img src=\"biased std.png\">``numpy.std`` or Biased std</img>\n",
    "<img src=\"unbiased std.png\">``pandas.std`` or Unbiased std</img>\n",
    "\n",
    "* We can reset the ``ddof`` term to get the same result:"
   ]
  },
  {
   "cell_type": "code",
   "execution_count": 6,
   "metadata": {
    "collapsed": false
   },
   "outputs": [
    {
     "name": "stdout",
     "output_type": "stream",
     "text": [
      "numpy std = 2.88876916846 | pandas std = 2.88876916846\n"
     ]
    }
   ],
   "source": [
    "np_std = np.std(df.loc[0],ddof=1) # set ddof=1 in numpy\n",
    "pd_std = df.loc[0].std() # ddof = 1 default in pandas\n",
    "print(\"numpy std = %s | pandas std = %s\" % (np_std, pd_std)) # same result"
   ]
  },
  {
   "cell_type": "code",
   "execution_count": 7,
   "metadata": {
    "collapsed": false
   },
   "outputs": [
    {
     "name": "stdout",
     "output_type": "stream",
     "text": [
      "numpy std = 2.88876772408 | pandas std = 2.88876772408\n"
     ]
    }
   ],
   "source": [
    "np_std = np.std(df.loc[0]) # ddof = 0 default in numpy\n",
    "pd_std = df.loc[0].std(ddof=0) # set ddof=0 in pandas\n",
    "print(\"numpy std = %s | pandas std = %s\" % (np_std, pd_std)) # same result"
   ]
  },
  {
   "cell_type": "markdown",
   "metadata": {},
   "source": [
    "***\n",
    "#### 1-2: Box plots \n",
    "\n",
    "#### Citation\n",
    "> \"statistics example code: boxplot_color_demo.py — Matplotlib 2.0.0 documentation\" http://matplotlib.org/examples/statistics/boxplot_color_demo.html (accessed Feb 1, 2017). \n",
    "\n",
    "> strptime http://pubs.opengroup.org/onlinepubs/009695399/functions/strptime.html (accessed Feb 1, 2017).\n",
    "\n",
    "> Box Plot: Display of Distribution http://www.physics.csbsju.edu/stats/box2.html (accessed Feb 1, 2017).\n",
    "\n",
    "> Bhole, B. Creating boxplots with Matplotlib http://blog.bharatbhole.com/creating-boxplots-with-matplotlib/ (accessed Feb 1, 2017).\n",
    "\n",
    "* Read data"
   ]
  },
  {
   "cell_type": "code",
   "execution_count": 8,
   "metadata": {
    "collapsed": false,
    "scrolled": true
   },
   "outputs": [
    {
     "data": {
      "text/html": [
       "<div>\n",
       "<table border=\"1\" class=\"dataframe\">\n",
       "  <thead>\n",
       "    <tr style=\"text-align: right;\">\n",
       "      <th></th>\n",
       "      <th>DateTime</th>\n",
       "      <th>Btu</th>\n",
       "      <th>kWh</th>\n",
       "    </tr>\n",
       "  </thead>\n",
       "  <tbody>\n",
       "    <tr>\n",
       "      <th>0</th>\n",
       "      <td>1/1/13 0:15</td>\n",
       "      <td>49664.0</td>\n",
       "      <td>19.69</td>\n",
       "    </tr>\n",
       "    <tr>\n",
       "      <th>1</th>\n",
       "      <td>1/1/13 0:30</td>\n",
       "      <td>90112.0</td>\n",
       "      <td>20.84</td>\n",
       "    </tr>\n",
       "    <tr>\n",
       "      <th>2</th>\n",
       "      <td>1/1/13 0:45</td>\n",
       "      <td>19968.0</td>\n",
       "      <td>17.42</td>\n",
       "    </tr>\n",
       "    <tr>\n",
       "      <th>3</th>\n",
       "      <td>1/1/13 1:00</td>\n",
       "      <td>50176.0</td>\n",
       "      <td>19.59</td>\n",
       "    </tr>\n",
       "    <tr>\n",
       "      <th>4</th>\n",
       "      <td>1/1/13 1:15</td>\n",
       "      <td>99840.0</td>\n",
       "      <td>20.46</td>\n",
       "    </tr>\n",
       "  </tbody>\n",
       "</table>\n",
       "</div>"
      ],
      "text/plain": [
       "      DateTime      Btu    kWh\n",
       "0  1/1/13 0:15  49664.0  19.69\n",
       "1  1/1/13 0:30  90112.0  20.84\n",
       "2  1/1/13 0:45  19968.0  17.42\n",
       "3  1/1/13 1:00  50176.0  19.59\n",
       "4  1/1/13 1:15  99840.0  20.46"
      ]
     },
     "execution_count": 8,
     "metadata": {},
     "output_type": "execute_result"
    }
   ],
   "source": [
    "energy_data = pd.read_csv('GerberdingElectricityChilledWater.csv', delimiter=',')\n",
    "energy_data.head()"
   ]
  },
  {
   "cell_type": "markdown",
   "metadata": {},
   "source": [
    "#### Box plot of chilled water energy and electricity usage\n",
    "* center red line represents the median of the data\n",
    "* upper horizontal bar represents the maximum value of the data \n",
    "* lower horizontal bar represnets the minimum value of the data\n",
    "* upper bondary of the box indicates the third quartile\n",
    "* lower bondary of the box indicates the first quartile\n",
    "* span of the box is the interquartile range or IQR\n",
    "* dots outside the box represent outliers of the data"
   ]
  },
  {
   "cell_type": "code",
   "execution_count": 41,
   "metadata": {
    "collapsed": false
   },
   "outputs": [
    {
     "data": {
      "image/png": "[encoded data removed]",
      "text/plain": [
       "<matplotlib.figure.Figure at 0x11dc9f710>"
      ]
     },
     "metadata": {},
     "output_type": "display_data"
    }
   ],
   "source": [
    "fig, axes = plt.subplots(nrows=1, ncols=2, figsize=(6,6))\n",
    "# plot the 1st box plot, outliers hidden\n",
    "box1 = axes[0].boxplot(energy_data['Btu'],1,'o',1,1, labels=[''],patch_artist=True,showfliers=False)\n",
    "# plot the 2nd box plot, outliers hidden\n",
    "box2 = axes[1].boxplot(energy_data['kWh'],1,'rs',1,1,labels=[''],patch_artist=True,showfliers=False)\n",
    "# add gridlines in y axis\n",
    "axes[0].yaxis.grid(True)\n",
    "axes[1].yaxis.grid(True)\n",
    "# change labels for the 1st box plot\n",
    "axes[0].set_xlabel('Usage sumamry of 18 months')\n",
    "axes[0].set_ylabel('Energy $(Btu)$')\n",
    "# change labels for the 2nd box plot\n",
    "axes[1].set_xlabel('Usage sumamry of 18 months')\n",
    "axes[1].set_ylabel('Electricity $(kWh)$')\n",
    "# add a title for both plots\n",
    "fig.suptitle('Gerberding Hall Chilled Water and Electricity Usage' )\n",
    "# change padding between plots\n",
    "fig.tight_layout(pad=2.2, w_pad=0.6, h_pad=1)\n",
    "# change color for the 1st box plot\n",
    "colors = ['lightgreen']\n",
    "for patch, color in zip(box1['boxes'], colors):\n",
    "    patch.set(color='black', linewidth=1.5)\n",
    "    patch.set_facecolor(color)\n",
    "# change color for the second box plot\n",
    "    colors = ['pink']\n",
    "for patch, color in zip(box2['boxes'], colors):\n",
    "    patch.set(color='black', linewidth=1.5)\n",
    "    patch.set_facecolor(color)\n"
   ]
  },
  {
   "cell_type": "markdown",
   "metadata": {},
   "source": [
    "## DNC: Begin Part 2"
   ]
  },
  {
   "cell_type": "markdown",
   "metadata": {},
   "source": [
    "### Part 2: Distributions \n",
    "\n",
    "* Your goal is to prepare a side-by-side plot describing the distribution of data from part 1 related to Gerberding Hall.\n",
    "\n",
    "1) To complete the plot you should assume the data are normally distributed and determine the mean and standard deviation of the chilled water data series.  \n",
    "\n",
    "2) The left panel of the plot should be a normalized histogram of the chilled water data with an **overlay** of the PDF of the normal distribution based on the $\\bar x$ and $s$ values from the data series.  The right panel of the plot should be contain two lines corresponding to the measured CDF and CDF from the normal distribution estimated from the data. \n",
    "\n",
    "3) Repeat (2) for the electricity water \n",
    "\n",
    "4) Comment in a Markdown cell on the ability of a normal distribution to describe this data \n"
   ]
  },
  {
   "cell_type": "markdown",
   "metadata": {},
   "source": [
    "***\n",
    "\n",
    "### Part2: Distribution\n",
    "\n",
    "#### Citation\n",
    "> \"statistics example code: histogram_demo_multihist.py — Matplotlib 2.0.0 documentation\" http://matplotlib.org/examples/statistics/histogram_demo_multihist.html (accessed Feb 1, 2017). \n",
    "\n",
    "* Chilled water data\n",
    "* Comment in a Markdown cell on the ability of a normal distribution to describe this data"
   ]
  },
  {
   "cell_type": "code",
   "execution_count": 10,
   "metadata": {
    "collapsed": false
   },
   "outputs": [
    {
     "ename": "NameError",
     "evalue": "name 'P' is not defined",
     "output_type": "error",
     "traceback": [
      "\u001b[0;31m---------------------------------------------------------------------------\u001b[0m",
      "\u001b[0;31mNameError\u001b[0m                                 Traceback (most recent call last)",
      "\u001b[0;32m<ipython-input-10-18dc3c1c6c27>\u001b[0m in \u001b[0;36m<module>\u001b[0;34m()\u001b[0m\n\u001b[1;32m      8\u001b[0m \u001b[0;34m\u001b[0m\u001b[0m\n\u001b[1;32m      9\u001b[0m \u001b[0mmu\u001b[0m\u001b[0;34m,\u001b[0m \u001b[0msigma\u001b[0m \u001b[0;34m=\u001b[0m \u001b[0mwater_data_mean\u001b[0m\u001b[0;34m,\u001b[0m \u001b[0mwater_data_std\u001b[0m\u001b[0;34m\u001b[0m\u001b[0m\n\u001b[0;32m---> 10\u001b[0;31m \u001b[0mx\u001b[0m \u001b[0;34m=\u001b[0m \u001b[0mx\u001b[0m \u001b[0;34m=\u001b[0m \u001b[0mmu\u001b[0m \u001b[0;34m+\u001b[0m \u001b[0msigma\u001b[0m\u001b[0;34m*\u001b[0m\u001b[0mP\u001b[0m\u001b[0;34m.\u001b[0m\u001b[0mrandn\u001b[0m\u001b[0;34m(\u001b[0m\u001b[0;36m10000\u001b[0m\u001b[0;34m)\u001b[0m\u001b[0;34m\u001b[0m\u001b[0m\n\u001b[0m\u001b[1;32m     11\u001b[0m \u001b[0;34m\u001b[0m\u001b[0m\n\u001b[1;32m     12\u001b[0m \u001b[0mn\u001b[0m\u001b[0;34m,\u001b[0m \u001b[0mbins\u001b[0m\u001b[0;34m,\u001b[0m \u001b[0mpatches\u001b[0m \u001b[0;34m=\u001b[0m \u001b[0mplt\u001b[0m\u001b[0;34m.\u001b[0m\u001b[0mhist\u001b[0m\u001b[0;34m(\u001b[0m\u001b[0mx\u001b[0m\u001b[0;34m,\u001b[0m \u001b[0;36m100\u001b[0m\u001b[0;34m,\u001b[0m \u001b[0mnormed\u001b[0m\u001b[0;34m=\u001b[0m\u001b[0;36m1\u001b[0m\u001b[0;34m,\u001b[0m \u001b[0mhisttype\u001b[0m\u001b[0;34m=\u001b[0m\u001b[0;34m'stepfilled'\u001b[0m\u001b[0;34m)\u001b[0m\u001b[0;34m\u001b[0m\u001b[0m\n",
      "\u001b[0;31mNameError\u001b[0m: name 'P' is not defined"
     ]
    }
   ],
   "source": [
    "# get water data\n",
    "water_data = energy_data['Btu']\n",
    "water_data_mean = water_data.mean() # mean of the water data\n",
    "water_data_std = water_data.std() # std of the water data\n",
    "\n",
    "# y1=norm.pdf(water_data,0,0.2)\n",
    "# plt.plot(water_data,y)\n",
    "\n",
    "mu, sigma = water_data_mean, water_data_std\n",
    "x = x = mu + sigma*P.randn(10000)\n",
    "\n",
    "n, bins, patches = plt.hist(x, 100, normed=1, histtype='stepfilled')\n",
    "n, bins, patches = plt.hist(water_data, 100, normed=1, histtype='stepfilled')\n",
    "plt.setp(patches, 'facecolor', 'lightgreen', 'alpha', 0.75)"
   ]
  },
  {
   "cell_type": "markdown",
   "metadata": {},
   "source": [
    "* Electriity data \n",
    "* Comment in a Markdown cell on the ability of a normal distribution to describe this data"
   ]
  },
  {
   "cell_type": "code",
   "execution_count": null,
   "metadata": {
    "collapsed": false
   },
   "outputs": [],
   "source": [
    "# get water data\n",
    "elec_data = energy_data['kWh']\n",
    "elec_data_mean = elec_data.mean() # mean of the water data\n",
    "elec_data_std = elec_data.std() # std of the water data\n",
    "\n",
    "# y1=norm.pdf(water_data,0,0.2)\n",
    "# plt.plot(water_data,y)\n",
    "\n",
    "mu, sigma = elec_data_mean, elec_data_std\n",
    "x = x = mu + sigma*P.randn(10000)\n",
    "\n",
    "n, bins, patches = plt.hist(x, 100, normed=1, histtype='stepfilled')\n",
    "n, bins, patches = plt.hist(elec_data, 100, normed=1, histtype='stepfilled')\n",
    "plt.setp(patches, 'facecolor', 'lightgreen', 'alpha', 0.75)"
   ]
  },
  {
   "cell_type": "markdown",
   "metadata": {
    "collapsed": true
   },
   "source": [
    "## DNC: Begin Part 3"
   ]
  },
  {
   "cell_type": "markdown",
   "metadata": {},
   "source": [
    "### Part 3: Hypothesis testing \n",
    "\n",
    "The file energyuse.csv contains energy use data for 6 UW students. The data include electricity for lighting, all other electricity use and total electricity use. The final entry in the data file is the national average of the same values. \n",
    "\n",
    "Please do the following\n",
    "\n",
    "1) Formulate a statistical hypothesis to test about the three data sets and clearly state it  \n",
    "2) Perform a test a significance level of P=0.05 (_make sure to clearly comment your work so I can follow what you are doing_)  \n",
    "3) Clearly state the meaning of the results in plain language "
   ]
  },
  {
   "cell_type": "markdown",
   "metadata": {},
   "source": [
    "***\n",
    "\n",
    "#### Part 3: Hypothesis testing\n"
   ]
  },
  {
   "cell_type": "code",
   "execution_count": null,
   "metadata": {
    "collapsed": false
   },
   "outputs": [],
   "source": [
    "energyuse = pd.read_csv('energyuse.csv', delimiter=',')\n",
    "energyuse"
   ]
  },
  {
   "cell_type": "code",
   "execution_count": null,
   "metadata": {
    "collapsed": true
   },
   "outputs": [],
   "source": []
  }
 ],
 "metadata": {
  "anaconda-cloud": {},
  "kernelspec": {
   "display_name": "Python [conda root]",
   "language": "python",
   "name": "conda-root-py"
  },
  "language_info": {
   "codemirror_mode": {
    "name": "ipython",
    "version": 3
   },
   "file_extension": ".py",
   "mimetype": "text/x-python",
   "name": "python",
   "nbconvert_exporter": "python",
   "pygments_lexer": "ipython3",
   "version": "3.5.2"
  }
 },
 "nbformat": 4,
 "nbformat_minor": 1
}
