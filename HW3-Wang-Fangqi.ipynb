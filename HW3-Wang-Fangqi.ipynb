{
 "cells": [
  {
   "cell_type": "markdown",
   "metadata": {},
   "source": [
    "## If a cell begins with DNC: do not change it and leave the markdown there so I can expect a basic level of  organization that is common to all HW (will help me with grading). This also clearly delineates the sections for me"
   ]
  },
  {
   "cell_type": "markdown",
   "metadata": {},
   "source": [
    "## DNC: preamble leave any general comments here and, in keeping with good practice, I suggest you load all needed modules in the preamble"
   ]
  },
  {
   "cell_type": "markdown",
   "metadata": {},
   "source": [
    "## DNC: Begin Part 1: Descriptive Statistics "
   ]
  },
  {
   "cell_type": "markdown",
   "metadata": {},
   "source": [
    "### Part 1: Problems for descriptive statistics \n",
    "\n",
    "#### 1-1: Understanding statistical calculations in python \n",
    "\n",
    "* Create a numpy array that has 10 uniform random numbers between 25.0 and 35.0, store it as a variable \n",
    "* Createa pandas dataframe with one frame based on your numpy array \n",
    "* Use \"np.std\" and \"pd.std\" formulas to calculate the standard deviation from both arrays, do not change any of the default arguments \n",
    "* The numbers should be different, explain why \n",
    "* Repeat the exercise with 1E6 uniform random numbers drawn from the same range \n",
    "* Comment on whether the numbers are different or not and explain why \n",
    "* Demonstrate that by using the proper function arguments you can obtain the same answer in both methods \n",
    "\n",
    "\n",
    "#### 1-2: Box plots \n",
    "\n",
    "* The data file GerberdingElectricityChilledWater.csv shows chilled water (energy) and electricity usage for Gerberding Hall over approximately an 18 month period from Jan 2013 to June 2014.  \n",
    "* **Note: these are real data! If you make any executive decisions (e.g., remove some points for very specific reasons), clearly explain your decision and motivation for doing so** \n",
    "\n",
    "* Load the data into Python (your choice of method) and prepare a box plot summary of the data. \n",
    "* Present the plot in the nicest possible format (e.g., improve it from the default and prepare it for publication or presentation format) - this is open ended and you can use your judgement \n",
    "* Explain in your own words what each part on the box plot means"
   ]
  },
  {
   "cell_type": "markdown",
   "metadata": {},
   "source": [
    "***\n",
    "\n",
    "### Part 1: Problems for descriptive statistics \n",
    "\n",
    "#### 1-1: Understanding statistical calculations in python "
   ]
  },
  {
   "cell_type": "code",
   "execution_count": 1,
   "metadata": {
    "collapsed": false
   },
   "outputs": [],
   "source": [
    "# import common libraries\n",
    "import pandas as pd\n",
    "import numpy as np\n",
    "import matplotlib.pyplot as plt\n",
    "import math\n",
    "from datetime import datetime\n",
    "%matplotlib inline\n",
    "from scipy import stats"
   ]
  },
  {
   "cell_type": "code",
   "execution_count": 2,
   "metadata": {
    "collapsed": false
   },
   "outputs": [
    {
     "name": "stdout",
     "output_type": "stream",
     "text": [
      "2.15840283358 | 2.27515635409\n"
     ]
    }
   ],
   "source": [
    "# generate 10 uniform random number between 25.0 & 35.0\n",
    "my_rand = np.random.uniform(25.0, 35.0, 10)\n",
    "# store the random numbers into data frame\n",
    "df = pd.DataFrame([my_rand])\n",
    "np_std = np.std(df.loc[0])\n",
    "pd_std = df.loc[0].std()\n",
    "print(\"%s | %s\" % (np_std, pd_std))"
   ]
  },
  {
   "cell_type": "markdown",
   "metadata": {},
   "source": [
    "#### Citation: \n",
    "> _\"Why Does Numpy Std() Give A Different Result To Matlab Std()?\". Stackoverflow.com. N.p., 2017. Web. 31 Jan. 2017._\n",
    "\n",
    ">_\"Pandas.Dataframe.Std — Pandas 0.19.2 Documentation\". Pandas.pydata.org. N.p., 2017. Web. 31 Jan. 2017._\n",
    "\n",
    "<p>\n",
    "    In numpy, the ``np.std`` calculation takes an optional parameter ddof: \"Delta Degrees of Freedom\". The default is 0. Whereas in ``pd.std``, the default ``ddof`` parameter is set to be 1.\n",
    "</p>\n",
    "\n"
   ]
  },
  {
   "cell_type": "code",
   "execution_count": 3,
   "metadata": {
    "collapsed": false
   },
   "outputs": [
    {
     "name": "stdout",
     "output_type": "stream",
     "text": [
      "numpy std = 2.27515635409 | pandas std = 2.27515635409\n"
     ]
    }
   ],
   "source": [
    "np_std = np.std(df.loc[0],ddof=1) # set ddof=1 in numpy\n",
    "pd_std = df.loc[0].std() # ddof = 1 default in pandas\n",
    "print(\"numpy std = %s | pandas std = %s\" % (np_std, pd_std)) # same result"
   ]
  },
  {
   "cell_type": "code",
   "execution_count": 4,
   "metadata": {
    "collapsed": false
   },
   "outputs": [
    {
     "name": "stdout",
     "output_type": "stream",
     "text": [
      "numpy std = 2.15840283358 | pandas std = 2.15840283358\n"
     ]
    }
   ],
   "source": [
    "np_std = np.std(df.loc[0]) # ddof = 0 default in numpy\n",
    "pd_std = df.loc[0].std(ddof=0) # set ddof=0 in pandas\n",
    "print(\"numpy std = %s | pandas std = %s\" % (np_std, pd_std)) # same result"
   ]
  },
  {
   "cell_type": "markdown",
   "metadata": {},
   "source": [
    "Set the sample size to be 1E6 and compare the ``std`` result"
   ]
  },
  {
   "cell_type": "code",
   "execution_count": 5,
   "metadata": {
    "collapsed": false
   },
   "outputs": [
    {
     "name": "stdout",
     "output_type": "stream",
     "text": [
      "2.88555330736 | 2.88555475014\n"
     ]
    }
   ],
   "source": [
    "# generate 10 uniform random number between 25.0 & 35.0\n",
    "my_rand = np.random.uniform(25.0, 35.0, int(1e6))\n",
    "# store the random numbers into data frame\n",
    "df = pd.DataFrame([my_rand])\n",
    "np_std = np.std(df.loc[0])\n",
    "pd_std = df.loc[0].std()\n",
    "print(\"%s | %s\" % (np_std, pd_std))"
   ]
  },
  {
   "cell_type": "markdown",
   "metadata": {},
   "source": [
    "<p>\n",
    "After we increase the sample sets, we can see that the computation result from ``pd.std`` has significantly approaching the result form ``np.std``. This is because the correction term or the Bessel's coefficient for numpy is N and pandas is N-1. When N is comparabally large, the standard deviation would not be affect by this changes.\n",
    "</p>\n",
    "\n",
    "<img src=\"biased std.png\">``numpy.std`` or Biased std</img>\n",
    "<img src=\"unbiased std.png\">``pandas.std`` or Unbiased std</img>\n",
    "\n",
    "* We can reset the ``ddof`` term to get the same result:"
   ]
  },
  {
   "cell_type": "code",
   "execution_count": 6,
   "metadata": {
    "collapsed": false
   },
   "outputs": [
    {
     "name": "stdout",
     "output_type": "stream",
     "text": [
      "numpy std = 2.88555475014 | pandas std = 2.88555475014\n"
     ]
    }
   ],
   "source": [
    "np_std = np.std(df.loc[0],ddof=1) # set ddof=1 in numpy\n",
    "pd_std = df.loc[0].std() # ddof = 1 default in pandas\n",
    "print(\"numpy std = %s | pandas std = %s\" % (np_std, pd_std)) # same result"
   ]
  },
  {
   "cell_type": "code",
   "execution_count": 7,
   "metadata": {
    "collapsed": false
   },
   "outputs": [
    {
     "name": "stdout",
     "output_type": "stream",
     "text": [
      "numpy std = 2.88555330736 | pandas std = 2.88555330736\n"
     ]
    }
   ],
   "source": [
    "np_std = np.std(df.loc[0]) # ddof = 0 default in numpy\n",
    "pd_std = df.loc[0].std(ddof=0) # set ddof=0 in pandas\n",
    "print(\"numpy std = %s | pandas std = %s\" % (np_std, pd_std)) # same result"
   ]
  },
  {
   "cell_type": "markdown",
   "metadata": {},
   "source": [
    "***\n",
    "#### 1-2: Box plots \n",
    "\n",
    "#### Citation\n",
    "> \"statistics example code: boxplot_color_demo.py — Matplotlib 2.0.0 documentation\" http://matplotlib.org/examples/statistics/boxplot_color_demo.html (accessed Feb 1, 2017). \n",
    "\n",
    "> strptime http://pubs.opengroup.org/onlinepubs/009695399/functions/strptime.html (accessed Feb 1, 2017).\n",
    "* Read data"
   ]
  },
  {
   "cell_type": "code",
   "execution_count": 8,
   "metadata": {
    "collapsed": false,
    "scrolled": true
   },
   "outputs": [
    {
     "data": {
      "text/html": [
       "<div>\n",
       "<table border=\"1\" class=\"dataframe\">\n",
       "  <thead>\n",
       "    <tr style=\"text-align: right;\">\n",
       "      <th></th>\n",
       "      <th>DateTime</th>\n",
       "      <th>Btu</th>\n",
       "      <th>kWh</th>\n",
       "    </tr>\n",
       "  </thead>\n",
       "  <tbody>\n",
       "    <tr>\n",
       "      <th>0</th>\n",
       "      <td>1/1/13 0:15</td>\n",
       "      <td>49664.0</td>\n",
       "      <td>19.69</td>\n",
       "    </tr>\n",
       "    <tr>\n",
       "      <th>1</th>\n",
       "      <td>1/1/13 0:30</td>\n",
       "      <td>90112.0</td>\n",
       "      <td>20.84</td>\n",
       "    </tr>\n",
       "    <tr>\n",
       "      <th>2</th>\n",
       "      <td>1/1/13 0:45</td>\n",
       "      <td>19968.0</td>\n",
       "      <td>17.42</td>\n",
       "    </tr>\n",
       "    <tr>\n",
       "      <th>3</th>\n",
       "      <td>1/1/13 1:00</td>\n",
       "      <td>50176.0</td>\n",
       "      <td>19.59</td>\n",
       "    </tr>\n",
       "    <tr>\n",
       "      <th>4</th>\n",
       "      <td>1/1/13 1:15</td>\n",
       "      <td>99840.0</td>\n",
       "      <td>20.46</td>\n",
       "    </tr>\n",
       "  </tbody>\n",
       "</table>\n",
       "</div>"
      ],
      "text/plain": [
       "      DateTime      Btu    kWh\n",
       "0  1/1/13 0:15  49664.0  19.69\n",
       "1  1/1/13 0:30  90112.0  20.84\n",
       "2  1/1/13 0:45  19968.0  17.42\n",
       "3  1/1/13 1:00  50176.0  19.59\n",
       "4  1/1/13 1:15  99840.0  20.46"
      ]
     },
     "execution_count": 8,
     "metadata": {},
     "output_type": "execute_result"
    }
   ],
   "source": [
    "energy_data = pd.read_csv('GerberdingElectricityChilledWater.csv', delimiter=',')\n",
    "energy_data.head()"
   ]
  },
  {
   "cell_type": "markdown",
   "metadata": {},
   "source": [
    "*  Change date in 'DateTime' column to actual 'date' object in python"
   ]
  },
  {
   "cell_type": "code",
   "execution_count": 36,
   "metadata": {
    "collapsed": false
   },
   "outputs": [
    {
     "data": {
      "text/html": [
       "<div>\n",
       "<table border=\"1\" class=\"dataframe\">\n",
       "  <thead>\n",
       "    <tr style=\"text-align: right;\">\n",
       "      <th></th>\n",
       "      <th>DateTime</th>\n",
       "      <th>Btu</th>\n",
       "      <th>kWh</th>\n",
       "      <th>Date</th>\n",
       "    </tr>\n",
       "  </thead>\n",
       "  <tbody>\n",
       "    <tr>\n",
       "      <th>0</th>\n",
       "      <td>1/1/13 0:15</td>\n",
       "      <td>49664.0</td>\n",
       "      <td>19.69</td>\n",
       "      <td>2013-01-01 00:15:00</td>\n",
       "    </tr>\n",
       "    <tr>\n",
       "      <th>1</th>\n",
       "      <td>1/1/13 0:30</td>\n",
       "      <td>90112.0</td>\n",
       "      <td>20.84</td>\n",
       "      <td>2013-01-01 00:30:00</td>\n",
       "    </tr>\n",
       "    <tr>\n",
       "      <th>2</th>\n",
       "      <td>1/1/13 0:45</td>\n",
       "      <td>19968.0</td>\n",
       "      <td>17.42</td>\n",
       "      <td>2013-01-01 00:45:00</td>\n",
       "    </tr>\n",
       "    <tr>\n",
       "      <th>3</th>\n",
       "      <td>1/1/13 1:00</td>\n",
       "      <td>50176.0</td>\n",
       "      <td>19.59</td>\n",
       "      <td>2013-01-01 01:00:00</td>\n",
       "    </tr>\n",
       "    <tr>\n",
       "      <th>4</th>\n",
       "      <td>1/1/13 1:15</td>\n",
       "      <td>99840.0</td>\n",
       "      <td>20.46</td>\n",
       "      <td>2013-01-01 01:15:00</td>\n",
       "    </tr>\n",
       "  </tbody>\n",
       "</table>\n",
       "</div>"
      ],
      "text/plain": [
       "      DateTime      Btu    kWh                Date\n",
       "0  1/1/13 0:15  49664.0  19.69 2013-01-01 00:15:00\n",
       "1  1/1/13 0:30  90112.0  20.84 2013-01-01 00:30:00\n",
       "2  1/1/13 0:45  19968.0  17.42 2013-01-01 00:45:00\n",
       "3  1/1/13 1:00  50176.0  19.59 2013-01-01 01:00:00\n",
       "4  1/1/13 1:15  99840.0  20.46 2013-01-01 01:15:00"
      ]
     },
     "execution_count": 36,
     "metadata": {},
     "output_type": "execute_result"
    }
   ],
   "source": [
    "date_column = []\n",
    "# date = energy_data['DateTime'][0]\n",
    "# energy_data.head()\n",
    "for date in energy_data['DateTime']:\n",
    "    if len(date) < 9:\n",
    "        date_column.append(datetime.strptime(date,'%m/%d/%y'))\n",
    "    else:\n",
    "        date_column.append(datetime.strptime(date,'%m/%d/%y %H:%M'))\n",
    "# dt = datetime.strptime(date,'%m/%d/%y %H:%M')\n",
    "energy_data['Date'] = date_column\n",
    "energy_data.head()"
   ]
  },
  {
   "cell_type": "code",
   "execution_count": 62,
   "metadata": {
    "collapsed": false
   },
   "outputs": [
    {
     "data": {
      "text/plain": [
       "59904.0"
      ]
     },
     "execution_count": 62,
     "metadata": {},
     "output_type": "execute_result"
    }
   ],
   "source": [
    "jan_13 = []\n",
    "for date, Btu in zip(energy_data['Date'], energy_data['Btu']):\n",
    "    if date.year == 2013 and date.month == 1:\n",
    "        jan_13.append(Btu)\n",
    "jan_13[-1]"
   ]
  },
  {
   "cell_type": "code",
   "execution_count": 49,
   "metadata": {
    "collapsed": false
   },
   "outputs": [
    {
     "data": {
      "text/plain": [
       "<pandas.core.groupby.DataFrameGroupBy object at 0x10f2e1320>"
      ]
     },
     "execution_count": 49,
     "metadata": {},
     "output_type": "execute_result"
    }
   ],
   "source": [
    "energy_data.groupby(energy_data.Date.dt.month)"
   ]
  },
  {
   "cell_type": "code",
   "execution_count": null,
   "metadata": {
    "collapsed": false
   },
   "outputs": [],
   "source": [
    "fig, ax = plt.subplots(1, figsize=(10,4))\n",
    "ax.boxplot(energy_data['kWh'], vert=True, patch_artist=True)\n",
    "ax.set_xlabel('Time (month)')\n",
    "ax.set_ylabel('Energy Consumpion (kWh)')"
   ]
  },
  {
   "cell_type": "markdown",
   "metadata": {},
   "source": [
    "## DNC: Begin Part 2"
   ]
  },
  {
   "cell_type": "markdown",
   "metadata": {},
   "source": [
    "### Part 2: Distributions \n",
    "\n",
    "* Your goal is to prepare a side-by-side plot describing the distribution of data from part 1 related to Gerberding Hall.\n",
    "\n",
    "1) To complete the plot you should assume the data are normally distributed and determine the mean and standard deviation of the chilled water data series.  \n",
    "\n",
    "2) The left panel of the plot should be a normalized histogram of the chilled water data with an **overlay** of the PDF of the normal distribution based on the $\\bar x$ and $s$ values from the data series.  The right panel of the plot should be contain two lines corresponding to the measured CDF and CDF from the normal distribution estimated from the data. \n",
    "\n",
    "3) Repeat (2) for the electricity water \n",
    "\n",
    "4) Comment in a Markdown cell on the ability of a normal distribution to describe this data \n"
   ]
  },
  {
   "cell_type": "markdown",
   "metadata": {
    "collapsed": true
   },
   "source": [
    "## DNC: Begin Part 3"
   ]
  },
  {
   "cell_type": "markdown",
   "metadata": {},
   "source": [
    "### Part 3: Hypothesis testing \n",
    "\n",
    "The file energyuse.csv contains energy use data for 6 UW students. The data include electricity for lighting, all other electricity use and total electricity use. The final entry in the data file is the national average of the same values. \n",
    "\n",
    "Please do the following\n",
    "\n",
    "1) Formulate a statistical hypothesis to test about the three data sets and clearly state it  \n",
    "2) Perform a test a significance level of P=0.05 (_make sure to clearly comment your work so I can follow what you are doing_)  \n",
    "3) Clearly state the meaning of the results in plain language "
   ]
  }
 ],
 "metadata": {
  "anaconda-cloud": {},
  "kernelspec": {
   "display_name": "Python [conda root]",
   "language": "python",
   "name": "conda-root-py"
  },
  "language_info": {
   "codemirror_mode": {
    "name": "ipython",
    "version": 3
   },
   "file_extension": ".py",
   "mimetype": "text/x-python",
   "name": "python",
   "nbconvert_exporter": "python",
   "pygments_lexer": "ipython3",
   "version": "3.5.2"
  }
 },
 "nbformat": 4,
 "nbformat_minor": 1
}
